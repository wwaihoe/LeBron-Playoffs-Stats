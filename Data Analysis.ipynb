{
 "cells": [
  {
   "cell_type": "code",
   "execution_count": 33,
   "metadata": {},
   "outputs": [],
   "source": [
    "import pandas as pd\n",
    "import numpy as np\n",
    "import matplotlib.pyplot as plt\n",
    "import seaborn as sb\n",
    "sb.set_theme()"
   ]
  },
  {
   "cell_type": "code",
   "execution_count": 34,
   "metadata": {},
   "outputs": [
    {
     "data": {
      "text/html": [
       "<div>\n",
       "<style scoped>\n",
       "    .dataframe tbody tr th:only-of-type {\n",
       "        vertical-align: middle;\n",
       "    }\n",
       "\n",
       "    .dataframe tbody tr th {\n",
       "        vertical-align: top;\n",
       "    }\n",
       "\n",
       "    .dataframe thead th {\n",
       "        text-align: right;\n",
       "    }\n",
       "</style>\n",
       "<table border=\"1\" class=\"dataframe\">\n",
       "  <thead>\n",
       "    <tr style=\"text-align: right;\">\n",
       "      <th></th>\n",
       "      <th>Rk</th>\n",
       "      <th>G</th>\n",
       "      <th>Date</th>\n",
       "      <th>Series</th>\n",
       "      <th>Tm</th>\n",
       "      <th>Unnamed: 5</th>\n",
       "      <th>Opp</th>\n",
       "      <th>G#</th>\n",
       "      <th>Unnamed: 8</th>\n",
       "      <th>GS</th>\n",
       "      <th>...</th>\n",
       "      <th>BLK</th>\n",
       "      <th>TOV</th>\n",
       "      <th>PF</th>\n",
       "      <th>PTS</th>\n",
       "      <th>GmSc</th>\n",
       "      <th>+/-</th>\n",
       "      <th>Away</th>\n",
       "      <th>Home</th>\n",
       "      <th>Outcome</th>\n",
       "      <th>Point Diff</th>\n",
       "    </tr>\n",
       "  </thead>\n",
       "  <tbody>\n",
       "    <tr>\n",
       "      <th>0</th>\n",
       "      <td>1.0</td>\n",
       "      <td>1.0</td>\n",
       "      <td>2006-04-22</td>\n",
       "      <td>EC1</td>\n",
       "      <td>CLE</td>\n",
       "      <td>0</td>\n",
       "      <td>WAS</td>\n",
       "      <td>1.0</td>\n",
       "      <td>W (+11)</td>\n",
       "      <td>1.0</td>\n",
       "      <td>...</td>\n",
       "      <td>0.0</td>\n",
       "      <td>4.0</td>\n",
       "      <td>3.0</td>\n",
       "      <td>32.0</td>\n",
       "      <td>23.3</td>\n",
       "      <td>11.0</td>\n",
       "      <td>0.0</td>\n",
       "      <td>1.0</td>\n",
       "      <td>W</td>\n",
       "      <td>11.0</td>\n",
       "    </tr>\n",
       "    <tr>\n",
       "      <th>1</th>\n",
       "      <td>2.0</td>\n",
       "      <td>2.0</td>\n",
       "      <td>2006-04-25</td>\n",
       "      <td>EC1</td>\n",
       "      <td>CLE</td>\n",
       "      <td>0</td>\n",
       "      <td>WAS</td>\n",
       "      <td>2.0</td>\n",
       "      <td>L (-5)</td>\n",
       "      <td>1.0</td>\n",
       "      <td>...</td>\n",
       "      <td>3.0</td>\n",
       "      <td>10.0</td>\n",
       "      <td>5.0</td>\n",
       "      <td>26.0</td>\n",
       "      <td>6.7</td>\n",
       "      <td>-2.0</td>\n",
       "      <td>0.0</td>\n",
       "      <td>1.0</td>\n",
       "      <td>L</td>\n",
       "      <td>-5.0</td>\n",
       "    </tr>\n",
       "    <tr>\n",
       "      <th>2</th>\n",
       "      <td>3.0</td>\n",
       "      <td>3.0</td>\n",
       "      <td>2006-04-28</td>\n",
       "      <td>EC1</td>\n",
       "      <td>CLE</td>\n",
       "      <td>@</td>\n",
       "      <td>WAS</td>\n",
       "      <td>3.0</td>\n",
       "      <td>W (+1)</td>\n",
       "      <td>1.0</td>\n",
       "      <td>...</td>\n",
       "      <td>0.0</td>\n",
       "      <td>4.0</td>\n",
       "      <td>3.0</td>\n",
       "      <td>41.0</td>\n",
       "      <td>27.4</td>\n",
       "      <td>1.0</td>\n",
       "      <td>1.0</td>\n",
       "      <td>0.0</td>\n",
       "      <td>W</td>\n",
       "      <td>1.0</td>\n",
       "    </tr>\n",
       "    <tr>\n",
       "      <th>3</th>\n",
       "      <td>4.0</td>\n",
       "      <td>4.0</td>\n",
       "      <td>2006-04-30</td>\n",
       "      <td>EC1</td>\n",
       "      <td>CLE</td>\n",
       "      <td>@</td>\n",
       "      <td>WAS</td>\n",
       "      <td>4.0</td>\n",
       "      <td>L (-10)</td>\n",
       "      <td>1.0</td>\n",
       "      <td>...</td>\n",
       "      <td>0.0</td>\n",
       "      <td>7.0</td>\n",
       "      <td>5.0</td>\n",
       "      <td>38.0</td>\n",
       "      <td>23.0</td>\n",
       "      <td>-16.0</td>\n",
       "      <td>1.0</td>\n",
       "      <td>0.0</td>\n",
       "      <td>L</td>\n",
       "      <td>-10.0</td>\n",
       "    </tr>\n",
       "    <tr>\n",
       "      <th>4</th>\n",
       "      <td>5.0</td>\n",
       "      <td>5.0</td>\n",
       "      <td>2006-05-03</td>\n",
       "      <td>EC1</td>\n",
       "      <td>CLE</td>\n",
       "      <td>0</td>\n",
       "      <td>WAS</td>\n",
       "      <td>5.0</td>\n",
       "      <td>W (+1)</td>\n",
       "      <td>1.0</td>\n",
       "      <td>...</td>\n",
       "      <td>0.0</td>\n",
       "      <td>4.0</td>\n",
       "      <td>5.0</td>\n",
       "      <td>45.0</td>\n",
       "      <td>38.4</td>\n",
       "      <td>-4.0</td>\n",
       "      <td>0.0</td>\n",
       "      <td>1.0</td>\n",
       "      <td>W</td>\n",
       "      <td>1.0</td>\n",
       "    </tr>\n",
       "  </tbody>\n",
       "</table>\n",
       "<p>5 rows × 35 columns</p>\n",
       "</div>"
      ],
      "text/plain": [
       "    Rk    G        Date Series   Tm Unnamed: 5  Opp   G# Unnamed: 8   GS  ...  \\\n",
       "0  1.0  1.0  2006-04-22    EC1  CLE          0  WAS  1.0    W (+11)  1.0  ...   \n",
       "1  2.0  2.0  2006-04-25    EC1  CLE          0  WAS  2.0     L (-5)  1.0  ...   \n",
       "2  3.0  3.0  2006-04-28    EC1  CLE          @  WAS  3.0     W (+1)  1.0  ...   \n",
       "3  4.0  4.0  2006-04-30    EC1  CLE          @  WAS  4.0    L (-10)  1.0  ...   \n",
       "4  5.0  5.0  2006-05-03    EC1  CLE          0  WAS  5.0     W (+1)  1.0  ...   \n",
       "\n",
       "   BLK   TOV   PF   PTS  GmSc   +/-  Away  Home  Outcome  Point Diff  \n",
       "0  0.0   4.0  3.0  32.0  23.3  11.0   0.0   1.0        W        11.0  \n",
       "1  3.0  10.0  5.0  26.0   6.7  -2.0   0.0   1.0        L        -5.0  \n",
       "2  0.0   4.0  3.0  41.0  27.4   1.0   1.0   0.0        W         1.0  \n",
       "3  0.0   7.0  5.0  38.0  23.0 -16.0   1.0   0.0        L       -10.0  \n",
       "4  0.0   4.0  5.0  45.0  38.4  -4.0   0.0   1.0        W         1.0  \n",
       "\n",
       "[5 rows x 35 columns]"
      ]
     },
     "execution_count": 34,
     "metadata": {},
     "output_type": "execute_result"
    }
   ],
   "source": [
    "df = pd.read_csv(\"LBJPO.csv\")\n",
    "df.head()"
   ]
  },
  {
   "cell_type": "code",
   "execution_count": 64,
   "metadata": {},
   "outputs": [
    {
     "name": "stdout",
     "output_type": "stream",
     "text": [
      "0.5915492957746479\n"
     ]
    }
   ],
   "source": [
    "#len(df.loc[(df[\"Tm\"] == \"CLE\") & (df[\"Outcome\"] == \"W\") & (df[\"Date\"].str.contains(\"2006|2007|2008|2009|2010\"))])\n",
    "winpct_cle1 = len(df.loc[(df[\"Outcome\"] == \"W\") & (df[\"Date\"].str.contains(\"2006|2007|2008|2009|2010\"))]) / len(df.loc[df[\"Date\"].str.contains(\"2006|2007|2008|2009|2010\")])\n",
    "print(winpct_cle1)"
   ]
  },
  {
   "cell_type": "code",
   "execution_count": 65,
   "metadata": {},
   "outputs": [
    {
     "name": "stdout",
     "output_type": "stream",
     "text": [
      "Overall Win Percentage: 0.65%\n",
      "1st Cleveland Stint Win Percentage: 0.59%\n",
      "Miami Win Percentage: 0.68%\n",
      "2nd Cleveland Stint Win Percentage: 0.68%\n",
      "Lakers Win Percentage: 0.67%\n"
     ]
    },
    {
     "name": "stderr",
     "output_type": "stream",
     "text": [
      "c:\\Users\\waiho\\anaconda3\\envs\\myenv\\lib\\site-packages\\seaborn\\_decorators.py:43: FutureWarning: Pass the following variable as a keyword arg: x. From version 0.12, the only valid positional argument will be `data`, and passing other arguments without an explicit keyword will result in an error or misinterpretation.\n",
      "  FutureWarning\n"
     ]
    },
    {
     "data": {
      "image/png": "[encoded data removed]",
      "text/plain": [
       "<Figure size 432x288 with 1 Axes>"
      ]
     },
     "metadata": {},
     "output_type": "display_data"
    }
   ],
   "source": [
    "#Win-Loss Record (Split into: 1st CLE stint, MIA, 2nd CLE stint and LAL)\n",
    "winpct = df[\"Outcome\"].value_counts()[\"W\"] / df.shape[0]\n",
    "winpct_cle1 = len(df.loc[(df[\"Outcome\"] == \"W\") & (df[\"Date\"].str.contains(\"2006|2007|2008|2009|2010\"))]) / len(df.loc[df[\"Date\"].str.contains(\"2006|2007|2008|2009|2010\")])\n",
    "winpct_mia = len(df.loc[(df[\"Tm\"] == \"MIA\") & (df[\"Outcome\"] == \"W\")]) / len(df.loc[df[\"Tm\"] == \"MIA\"])\n",
    "winpct_cle2 = len(df.loc[(df[\"Outcome\"] == \"W\") & (df[\"Date\"].str.contains(\"2015|2016|2017|2018\"))]) / len(df.loc[df[\"Date\"].str.contains(\"2015|2016|2017|2018\")])\n",
    "winpct_lal = len(df.loc[(df[\"Tm\"] == \"LAL\") & (df[\"Outcome\"] == \"W\")]) / len(df.loc[df[\"Tm\"] == \"LAL\"])\n",
    "print(\"Overall Win Percentage: {:.2f}%\".format(winpct))\n",
    "print(\"1st Cleveland Stint Win Percentage: {:.2f}%\".format(winpct_cle1))\n",
    "print(\"Miami Win Percentage: {:.2f}%\".format(winpct_mia))\n",
    "print(\"2nd Cleveland Stint Win Percentage: {:.2f}%\".format(winpct_cle2))\n",
    "print(\"Lakers Win Percentage: {:.2f}%\".format(winpct_lal))\n",
    "ax = sb.countplot(\"Outcome\", data=df, hue=\"Tm\")\n",
    "for container in ax.containers:\n",
    "    ax.bar_label(container)"
   ]
  },
  {
   "cell_type": "code",
   "execution_count": 72,
   "metadata": {},
   "outputs": [
    {
     "name": "stdout",
     "output_type": "stream",
     "text": [
      "count    266.000000\n",
      "mean       3.894737\n",
      "std       14.157211\n",
      "min      -36.000000\n",
      "25%       -5.000000\n",
      "50%        5.000000\n",
      "75%       12.000000\n",
      "max       44.000000\n",
      "Name: Point Diff, dtype: float64\n"
     ]
    },
    {
     "data": {
      "text/plain": [
       "<Figure size 1440x576 with 0 Axes>"
      ]
     },
     "metadata": {},
     "output_type": "display_data"
    },
    {
     "data": {
      "image/png": "[encoded data removed]",
      "text/plain": [
       "<Figure size 432x288 with 3 Axes>"
      ]
     },
     "metadata": {},
     "output_type": "display_data"
    }
   ],
   "source": [
    "#Point Differential\n",
    "print(df[\"Point Diff\"].describe())\n",
    "plt.figure(figsize=(20, 8))\n",
    "fig,ax = plt.subplots(3,1)\n",
    "ax[0] = sb.histplot(x = \"Point Diff\", data=df.loc[df[\"Tm\"] == \"CLE\"], binwidth=1)"
   ]
  },
  {
   "cell_type": "code",
   "execution_count": null,
   "metadata": {},
   "outputs": [],
   "source": []
  }
 ],
 "metadata": {
  "interpreter": {
   "hash": "67366bee40897d9ede11ddf98c8376b69e49939c9db8cbcf2c1234d2738ff163"
  },
  "kernelspec": {
   "display_name": "Python 3.7.11 ('myenv')",
   "language": "python",
   "name": "python3"
  },
  "language_info": {
   "codemirror_mode": {
    "name": "ipython",
    "version": 3
   },
   "file_extension": ".py",
   "mimetype": "text/x-python",
   "name": "python",
   "nbconvert_exporter": "python",
   "pygments_lexer": "ipython3",
   "version": "3.7.11"
  },
  "orig_nbformat": 4
 },
 "nbformat": 4,
 "nbformat_minor": 2
}
